{
 "cells": [
  {
   "cell_type": "code",
   "execution_count": null,
   "metadata": {},
   "outputs": [],
   "source": [
    "import findspark\n",
    "findspark.init()"
   ]
  },
  {
   "cell_type": "code",
   "execution_count": 1,
   "metadata": {},
   "outputs": [
    {
     "name": "stderr",
     "output_type": "stream",
     "text": [
      "24/08/28 01:58:34 WARN Utils: Your hostname, codespaces-26d3df resolves to a loopback address: 127.0.0.1; using 10.0.0.156 instead (on interface eth0)\n",
      "24/08/28 01:58:34 WARN Utils: Set SPARK_LOCAL_IP if you need to bind to another address\n",
      "Setting default log level to \"WARN\".\n",
      "To adjust logging level use sc.setLogLevel(newLevel). For SparkR, use setLogLevel(newLevel).\n",
      "24/08/28 01:58:35 WARN NativeCodeLoader: Unable to load native-hadoop library for your platform... using builtin-java classes where applicable\n",
      "                                                                                \r"
     ]
    },
    {
     "name": "stdout",
     "output_type": "stream",
     "text": [
      "+-------+----+---------+---------+---------+\n",
      "|   Nama|Usia|Pekerjaan|     Hobi|   Gender|\n",
      "+-------+----+---------+---------+---------+\n",
      "|    Qia|  21|   Dokter|  Memasak|Perempuan|\n",
      "|   Zara|  22|Pramugari|Bernyanyi|Perempuan|\n",
      "| Zalora|  23|     Guru|  Membaca|Perempuan|\n",
      "|Qalista|  24|  Perawat| Berkebun|Perempuan|\n",
      "+-------+----+---------+---------+---------+\n",
      "\n"
     ]
    },
    {
     "name": "stderr",
     "output_type": "stream",
     "text": [
      "24/08/28 01:58:53 WARN GarbageCollectionMetrics: To enable non-built-in garbage collector(s) List(G1 Concurrent GC), users should configure it(them) to spark.eventLog.gcMetrics.youngGenerationGarbageCollectors or spark.eventLog.gcMetrics.oldGenerationGarbageCollectors\n"
     ]
    }
   ],
   "source": [
    "from pyspark.sql import SparkSession\n",
    "\n",
    "# Memulai Spark session\n",
    "spark = SparkSession.builder.appName(\"BigDataPractice\").getOrCreate()\n",
    "\n",
    "# Membuat DataFrame sederhana\n",
    "data = [(\"Qia\", 21, \"Dokter\", \"Memasak\", \"Perempuan\"),\n",
    "        (\"Zara\", 22, \"Pramugari\", \"Bernyanyi\", \"Perempuan\"),\n",
    "        (\"Zalora\", 23, \"Guru\", \"Membaca\", \"Perempuan\"),\n",
    "        (\"Qalista\", 24, \"Perawat\", \"Berkebun\", \"Perempuan\")]\n",
    "columns = [\"Nama\", \"Usia\", \"Pekerjaan\", \"Hobi\", \"Gender\"]\n",
    "df = spark.createDataFrame(data, columns)\n",
    "\n",
    "# Menampilkan DataFrame\n",
    "df.show()"
   ]
  },
  {
   "cell_type": "code",
   "execution_count": 2,
   "metadata": {},
   "outputs": [
    {
     "name": "stdout",
     "output_type": "stream",
     "text": [
      "+-------+----+\n",
      "|   Nama|Usia|\n",
      "+-------+----+\n",
      "|    Qia|  21|\n",
      "|   Zara|  22|\n",
      "| zalora|  23|\n",
      "|Qalista|  24|\n",
      "+-------+----+\n",
      "\n",
      "+----+----+\n",
      "|Nama|Usia|\n",
      "+----+----+\n",
      "+----+----+\n",
      "\n",
      "+---------+\n",
      "|avg(Usia)|\n",
      "+---------+\n",
      "|     22.5|\n",
      "+---------+\n",
      "\n",
      "+-------+----+\n",
      "|   Nama|Usia|\n",
      "+-------+----+\n",
      "|Qalista|  24|\n",
      "| zalora|  23|\n",
      "|   Zara|  22|\n",
      "|    Qia|  21|\n",
      "+-------+----+\n",
      "\n"
     ]
    }
   ],
   "source": [
    "from pyspark.sql import SparkSession\n",
    "\n",
    "# Memulai Spark session\n",
    "spark = SparkSession.builder.appName(\"BigDataPractice\").getOrCreate()\n",
    "\n",
    "# Membuat DataFrame sederhana\n",
    "data = [(\"Qia\", 21), (\"Zara\", 22), (\"zalora\", 23), (\"Qalista\", 24)]\n",
    "columns = [\"Nama\", \"Usia\"]\n",
    "df = spark.createDataFrame(data, columns)\n",
    "\n",
    "# Menampilkan DataFrame\n",
    "df.show()\n",
    "\n",
    "# Filtering data\n",
    "df_filtered = df.filter(df['Usia'] > 30)\n",
    "df_filtered.show()\n",
    "\n",
    "# Menghitung rata-rata usia\n",
    "from pyspark.sql.functions import avg\n",
    "df.groupBy().agg(avg(\"Usia\")).show()\n",
    "\n",
    "# Mengurutkan data berdasarkan usia\n",
    "df_sorted = df.orderBy(\"Usia\", ascending=False)\n",
    "df_sorted.show()"
   ]
  },
  {
   "cell_type": "code",
   "execution_count": 4,
   "metadata": {},
   "outputs": [
    {
     "name": "stdout",
     "output_type": "stream",
     "text": [
      "DataFrame:\n",
      "      Nama  Usia     Gender\n",
      "0      Qia    21  Perempuan\n",
      "1     Zara    22  Perempuan\n",
      "2   Zalora    23  Perempuan\n",
      "3  Qalista    24  Perempuan\n",
      "\n",
      "Usia > 20:\n",
      "      Nama  Usia     Gender\n",
      "0      Qia    21  Perempuan\n",
      "1     Zara    22  Perempuan\n",
      "2   Zalora    23  Perempuan\n",
      "3  Qalista    24  Perempuan\n"
     ]
    },
    {
     "data": {
      "text/html": [
       "<div>\n",
       "<style scoped>\n",
       "    .dataframe tbody tr th:only-of-type {\n",
       "        vertical-align: middle;\n",
       "    }\n",
       "\n",
       "    .dataframe tbody tr th {\n",
       "        vertical-align: top;\n",
       "    }\n",
       "\n",
       "    .dataframe thead th {\n",
       "        text-align: right;\n",
       "    }\n",
       "</style>\n",
       "<table border=\"1\" class=\"dataframe\">\n",
       "  <thead>\n",
       "    <tr style=\"text-align: right;\">\n",
       "      <th></th>\n",
       "      <th>Nama</th>\n",
       "      <th>Usia</th>\n",
       "      <th>Gender</th>\n",
       "    </tr>\n",
       "  </thead>\n",
       "  <tbody>\n",
       "    <tr>\n",
       "      <th>0</th>\n",
       "      <td>Qia</td>\n",
       "      <td>21</td>\n",
       "      <td>Perempuan</td>\n",
       "    </tr>\n",
       "    <tr>\n",
       "      <th>1</th>\n",
       "      <td>Zara</td>\n",
       "      <td>22</td>\n",
       "      <td>Perempuan</td>\n",
       "    </tr>\n",
       "    <tr>\n",
       "      <th>2</th>\n",
       "      <td>Zalora</td>\n",
       "      <td>23</td>\n",
       "      <td>Perempuan</td>\n",
       "    </tr>\n",
       "    <tr>\n",
       "      <th>3</th>\n",
       "      <td>Qalista</td>\n",
       "      <td>24</td>\n",
       "      <td>Perempuan</td>\n",
       "    </tr>\n",
       "  </tbody>\n",
       "</table>\n",
       "</div>"
      ],
      "text/plain": [
       "      Nama  Usia     Gender\n",
       "0      Qia    21  Perempuan\n",
       "1     Zara    22  Perempuan\n",
       "2   Zalora    23  Perempuan\n",
       "3  Qalista    24  Perempuan"
      ]
     },
     "execution_count": 4,
     "metadata": {},
     "output_type": "execute_result"
    }
   ],
   "source": [
    "import pandas as pd\n",
    "\n",
    "# Membuat DataFrame Pandas\n",
    "data_pandas = {\"Nama\": [\"Qia\", \"Zara\", \"Zalora\", \"Qalista\"], \"Usia\": [21, 22, 23, 24]}\n",
    "df_pandas = pd.DataFrame(data_pandas)\n",
    "\n",
    "# Menampilkan kolom baru\n",
    "gender = [\"Perempuan\", \"Perempuan\", \"Perempuan\", \"Perempuan\"]\n",
    "df_pandas['Gender'] = gender\n",
    "\n",
    "print(\"DataFrame:\")\n",
    "print(df_pandas)\n",
    "\n",
    "# Filtering usia\n",
    "filtered_df = df_pandas[df_pandas['Usia'] > 20]\n",
    "\n",
    "print(\"\\nUsia > 20:\")\n",
    "print(filtered_df)\n",
    "      \n",
    "\n",
    "# Menampilkan DataFrame Pandas\n",
    "df_pandas"
   ]
  },
  {
   "cell_type": "code",
   "execution_count": 5,
   "metadata": {},
   "outputs": [
    {
     "name": "stdout",
     "output_type": "stream",
     "text": [
      "      Nama  Usia  Pekerjaan\n",
      "0      Qia    21     Dokter\n",
      "1     Zara    22  Pramugari\n",
      "2   Zalora    23       Guru\n",
      "3  Qalista    24    Perawat\n",
      "            Usia\n",
      "count   4.000000\n",
      "mean   22.500000\n",
      "std     1.290994\n",
      "min    21.000000\n",
      "25%    21.750000\n",
      "50%    22.500000\n",
      "75%    23.250000\n",
      "max    24.000000\n"
     ]
    },
    {
     "data": {
      "image/png": "[encoded data removed]",
      "text/plain": [
       "<Figure size 640x480 with 1 Axes>"
      ]
     },
     "metadata": {},
     "output_type": "display_data"
    }
   ],
   "source": [
    "import pandas as pd\n",
    "\n",
    "# Membuat DataFrame Pandas\n",
    "data_pandas = {\"Nama\": [\"Qia\", \"Zara\", \"Zalora\", \"Qalista\"], \"Usia\": [21, 22, 23, 24]}\n",
    "df_pandas = pd.DataFrame(data_pandas)\n",
    "\n",
    "# Membuat DataFrame kedua\n",
    "data_pandas_2 = {\"Nama\": [\"Qia\", \"Zara\", \"Zalora\", \"Qalista\"], \"Pekerjaan\": [\"Dokter\", \"Pramugari\", \"Guru\", \"Perawat\"]}\n",
    "df_pandas_2 = pd.DataFrame(data_pandas_2)\n",
    "\n",
    "# Join antara dua DataFrame\n",
    "df_joined = pd.merge(df_pandas, df_pandas_2, on=\"Nama\")\n",
    "print(df_joined)\n",
    "\n",
    "# Menghitung statistik deskriptif\n",
    "print(df_pandas.describe())\n",
    "\n",
    "# Plotting Data\n",
    "import matplotlib.pyplot as plt\n",
    "df_pandas['Usia'].plot(kind='bar')\n",
    "plt.show()"
   ]
  },
  {
   "cell_type": "code",
   "execution_count": 6,
   "metadata": {},
   "outputs": [
    {
     "name": "stdout",
     "output_type": "stream",
     "text": [
      "+-------+----+\n",
      "|   Nama|Usia|\n",
      "+-------+----+\n",
      "|    Qia|  21|\n",
      "|   Zara|  22|\n",
      "| Zalora|  23|\n",
      "|Qalista|  24|\n",
      "+-------+----+\n",
      "\n"
     ]
    },
    {
     "data": {
      "text/plain": [
       "(      Nama  Usia\n",
       " 0      Qia    21\n",
       " 1     Zara    22\n",
       " 2   zalora    23\n",
       " 3  Qalista    24,\n",
       " None)"
      ]
     },
     "execution_count": 6,
     "metadata": {},
     "output_type": "execute_result"
    }
   ],
   "source": [
    "# Mengonversi DataFrame dari PySpark ke Pandas\n",
    "df_pandas_from_spark = df.toPandas()\n",
    "\n",
    "# Mengonversi DataFrame dari Pandas ke PySpark\n",
    "df_spark_from_pandas = spark.createDataFrame(df_pandas)\n",
    "\n",
    "# Menampilkan DataFrame hasil konversi\n",
    "df_pandas_from_spark, df_spark_from_pandas.show()"
   ]
  },
  {
   "cell_type": "code",
   "execution_count": 7,
   "metadata": {},
   "outputs": [
    {
     "name": "stdout",
     "output_type": "stream",
     "text": [
      "+-------+----+\n",
      "|   Nama|Usia|\n",
      "+-------+----+\n",
      "|    Qia|  21|\n",
      "|   Zara|  22|\n",
      "| Zalora|  23|\n",
      "|Qalista|  24|\n",
      "+-------+----+\n",
      "\n"
     ]
    },
    {
     "data": {
      "text/plain": [
       "(      Nama  Usia\n",
       " 0      Qia    21\n",
       " 1     Zara    22\n",
       " 2   zalora    23\n",
       " 3  Qalista    24,\n",
       " None)"
      ]
     },
     "execution_count": 7,
     "metadata": {},
     "output_type": "execute_result"
    }
   ],
   "source": [
    "# Mengonversi DataFrame dari PySpark ke Pandas\n",
    "df_pandas_from_spark = df.toPandas()\n",
    "\n",
    "# Mengonversi DataFrame dari Pandas ke PySpark\n",
    "df_spark_from_pandas = spark.createDataFrame(df_pandas)\n",
    "\n",
    "# Menampilkan DataFrame hasil konversi\n",
    "df_pandas_from_spark, df_spark_from_pandas.show()\n"
   ]
  },
  {
   "cell_type": "code",
   "execution_count": null,
   "metadata": {},
   "outputs": [],
   "source": []
  }
 ],
 "metadata": {
  "kernelspec": {
   "display_name": "Python 3",
   "language": "python",
   "name": "python3"
  },
  "language_info": {
   "codemirror_mode": {
    "name": "ipython",
    "version": 3
   },
   "file_extension": ".py",
   "mimetype": "text/x-python",
   "name": "python",
   "nbconvert_exporter": "python",
   "pygments_lexer": "ipython3",
   "version": "3.12.1"
  }
 },
 "nbformat": 4,
 "nbformat_minor": 2
}
